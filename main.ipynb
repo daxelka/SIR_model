{
 "cells": [
  {
   "cell_type": "code",
   "execution_count": 1,
   "id": "serial-china",
   "metadata": {},
   "outputs": [],
   "source": [
    "import numpy as np\n",
    "import matplotlib.pyplot as plt\n",
    "import networkx as nx\n",
    "import seaborn as sns\n",
    "\n",
    "from sir import Sir_model"
   ]
  },
  {
   "cell_type": "code",
   "execution_count": 2,
   "id": "practical-apple",
   "metadata": {},
   "outputs": [],
   "source": [
    "model = Sir_model(dt=0.01, T=10)"
   ]
  },
  {
   "cell_type": "code",
   "execution_count": 3,
   "id": "portuguese-minute",
   "metadata": {},
   "outputs": [],
   "source": [
    "y, t = model.run()"
   ]
  },
  {
   "cell_type": "code",
   "execution_count": 4,
   "id": "expired-diesel",
   "metadata": {},
   "outputs": [
    {
     "data": {
      "text/plain": [
       "[<matplotlib.lines.Line2D at 0x137a21eb8>]"
      ]
     },
     "execution_count": 4,
     "metadata": {},
     "output_type": "execute_result"
    },
    {
     "data": {
      "image/png": "[encoded data removed]",
      "text/plain": [
       "<Figure size 432x288 with 1 Axes>"
      ]
     },
     "metadata": {
      "needs_background": "light"
     },
     "output_type": "display_data"
    }
   ],
   "source": [
    "plt.plot(t,y)"
   ]
  },
  {
   "cell_type": "code",
   "execution_count": 12,
   "id": "likely-therapist",
   "metadata": {},
   "outputs": [],
   "source": [
    "test = np.array([])"
   ]
  },
  {
   "cell_type": "code",
   "execution_count": 13,
   "id": "interior-neighbor",
   "metadata": {},
   "outputs": [
    {
     "data": {
      "text/plain": [
       "array([], dtype=float64)"
      ]
     },
     "execution_count": 13,
     "metadata": {},
     "output_type": "execute_result"
    }
   ],
   "source": [
    "test"
   ]
  }
 ],
 "metadata": {
  "kernelspec": {
   "display_name": "Python 3",
   "language": "python",
   "name": "python3"
  },
  "language_info": {
   "codemirror_mode": {
    "name": "ipython",
    "version": 3
   },
   "file_extension": ".py",
   "mimetype": "text/x-python",
   "name": "python",
   "nbconvert_exporter": "python",
   "pygments_lexer": "ipython3",
   "version": "3.7.0"
  }
 },
 "nbformat": 4,
 "nbformat_minor": 5
}
